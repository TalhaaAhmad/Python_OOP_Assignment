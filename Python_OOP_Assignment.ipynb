{
 "cells": [
  {
   "attachments": {},
   "cell_type": "markdown",
   "metadata": {},
   "source": [
    "## Python OOP Assignment"
   ]
  },
  {
   "attachments": {},
   "cell_type": "markdown",
   "metadata": {},
   "source": [
    "Q1. What is the purpose of Python's OOP?\n",
    "\n",
    "Ans : The purpose of Python's object-oriented programming (OOP) is to allow developers to organize their code into modular, reusable, and maintainable structures by creating objects that encapsulate data and behavior. OOP in Python allows for the creation of classes and objects, which can be used to represent real-world entities and interact with each other in a structured and organized manner. This approach enables developers to write more efficient, scalable, and readable code."
   ]
  },
  {
   "attachments": {},
   "cell_type": "markdown",
   "metadata": {},
   "source": [
    "Q2. Where does an inheritance search look for an attribute?\n",
    "\n",
    "Ans : An inheritance search in Python looks for an attribute in the object itself, the object's class, the first parent class, the second parent class (if any), and so on, until it reaches the top of the inheritance hierarchy (i.e., the built-in object class)."
   ]
  },
  {
   "attachments": {},
   "cell_type": "markdown",
   "metadata": {},
   "source": [
    "Q3. How do you distinguish between a class object and an instance object?\n",
    "\n",
    "Ans : A class object is a blueprint or template for creating instance objects, while an instance object is a specific object that is created from a class. A class object has both class attributes and methods as well as instance methods, while an instance object only has instance attributes and methods.\n"
   ]
  },
  {
   "attachments": {},
   "cell_type": "markdown",
   "metadata": {},
   "source": [
    "\n",
    "Q4. What makes the first argument in a class’s method function special?\n",
    "\n",
    "Ans : The first argument in a class's method function is conventionally named self, and it refers to the instance of the class on which the method is being called. The self argument is special because it allows the method to access and modify the instance's attributes and methods.\n"
   ]
  },
  {
   "attachments": {},
   "cell_type": "markdown",
   "metadata": {},
   "source": [
    "\n",
    "Q5. What is the purpose of the init method?\n",
    "\n",
    "Ans : The __init__ method is a special method in Python classes that is called when an instance of the class is created. The purpose of the __init__ method is to initialize the instance's attributes with the values passed as arguments during object creation, setting up the initial state of the object.\n"
   ]
  },
  {
   "cell_type": "markdown",
   "metadata": {},
   "source": [
    "\n",
    "Q6. What is the process for creating a class instance?\n",
    "\n",
    "Ans : To create a class instance in Python, you need to define the class with its attributes and methods using the class keyword. Then, you can create an instance of the class by calling the class constructor, which is the name of the class followed by parentheses. The constructor creates a new object of the class type. Once the instance is created, you can set its attributes using dot notation and call its methods using dot notation as well."
   ]
  },
  {
   "attachments": {},
   "cell_type": "markdown",
   "metadata": {},
   "source": [
    "Q7. What is the process for creating a class?\n",
    "\n",
    "To create a class in Python, you need to use the class keyword followed by the name of the class. You can optionally define a constructor method (__init__) to initialize the attributes of the class. You can then add other methods to the class as needed. These methods can manipulate the attributes of the class, perform some computation, or return a value. You can also optionally add class-level attributes to the class that are shared among all instances of the class.\n",
    "\n",
    "Here's an example of creating a class in Python:\n"
   ]
  },
  {
   "cell_type": "code",
   "execution_count": 56,
   "metadata": {},
   "outputs": [],
   "source": [
    "\n",
    "class Person:\n",
    "    def __init__(self, name, age):\n",
    "        self.name = name\n",
    "        self.age = age\n",
    "        \n",
    "    def greet(self):\n",
    "        print(f\"Hello, my name is {self.name} and I am {self.age} years old.\")\n"
   ]
  },
  {
   "cell_type": "markdown",
   "metadata": {},
   "source": [
    "\n",
    "In this example, we define a class called Person with two attributes (name and age) and one method (greet). The constructor method initializes the name and age attributes of the class, and the greet method prints a greeting message using the values of the name and age attributes.\n"
   ]
  },
  {
   "cell_type": "markdown",
   "metadata": {},
   "source": [
    "\n",
    "Q8. How would you define the superclasses of a class?\n",
    "\n",
    "Ans : To define the superclasses of a class in Python, you need to include them in the parentheses after the class name. This is called class inheritance or subclassing. The superclass(es) will provide the attributes and methods that the subclass can use or override. You can define one or more superclasses by separating them with a comma.\n"
   ]
  },
  {
   "attachments": {},
   "cell_type": "markdown",
   "metadata": {},
   "source": [
    "Q9. What is the relationship between classes and modules?\n",
    "\n",
    "Ans : Classes and modules have a close relationship in Python. A module is a file that can contain one or more classes along with other definitions and statements, while a class is a blueprint for creating objects with specific attributes and methods. You can define a class in a module, and then import that module into another module or script to use the class. This allows you to organize your code into reusable components and make it more modular. To use a class defined in a module, you need to import the module first, and then create an instance of the class using the module name and class name.\n"
   ]
  },
  {
   "attachments": {},
   "cell_type": "markdown",
   "metadata": {},
   "source": [
    "\n",
    "Q10. How do you make instances and classes?\n",
    "\n",
    "Ans : To create an instance of a class in Python, you first define the class using the class keyword, and then create an instance of that class using the class name followed by parentheses. For example, to create an instance of a class named MyClass, you would do:\n"
   ]
  },
  {
   "cell_type": "code",
   "execution_count": 57,
   "metadata": {},
   "outputs": [],
   "source": [
    "\n",
    "class MyClass:\n",
    "    # class definition\n",
    "    def __init__(self) -> None:\n",
    "        pass\n",
    "\n",
    "\n",
    "my_instance = MyClass()\n"
   ]
  },
  {
   "attachments": {},
   "cell_type": "markdown",
   "metadata": {},
   "source": [
    "\n",
    "Here, we define the MyClass class and then create an instance of it using MyClass(). This will call the class's constructor method (__init__) and create a new instance of the class with its own set of attributes and methods.\n",
    "\n",
    "To create a class in Python, you use the class keyword followed by the name of the class and a colon. Inside the class, you define its attributes and methods. For example, to create a class named MyClass with a single attribute named my_attribute, you would do:\n"
   ]
  },
  {
   "cell_type": "code",
   "execution_count": 58,
   "metadata": {},
   "outputs": [],
   "source": [
    "\n",
    "class MyClass:\n",
    "    def __init__(self):\n",
    "        self.my_attribute = \"Hello, World!\"\n"
   ]
  },
  {
   "cell_type": "markdown",
   "metadata": {},
   "source": [
    "\n",
    "Here, we define the MyClass class with an __init__ method that initializes the my_attribute attribute with the string \"Hello, World!\". This attribute can then be accessed by any instances of the class that are created later.\n"
   ]
  },
  {
   "attachments": {},
   "cell_type": "markdown",
   "metadata": {},
   "source": [
    "\n",
    "Q11. Where and how should be class attributes created?\n",
    "\n",
    "Ans : Class attributes are created inside the class definition, but outside of any method definitions. These attributes are shared by all instances of the class and can be accessed directly from the class or from any instance of the class.\n",
    "\n",
    "To create a class attribute, you simply assign a value to a variable inside the class definition. For example:\n"
   ]
  },
  {
   "cell_type": "code",
   "execution_count": 59,
   "metadata": {},
   "outputs": [],
   "source": [
    "\n",
    "class MyClass:\n",
    "    class_attribute = \"This is a class attribute\"\n"
   ]
  },
  {
   "attachments": {},
   "cell_type": "markdown",
   "metadata": {},
   "source": [
    "\n",
    "Here, we define a class named MyClass and create a class attribute called class_attribute with the value \"This is a class attribute\".\n",
    "\n",
    "Class attributes are usually used to store data or configuration options that are shared across all instances of the class. They can be accessed by any method or instance of the class using the syntax ClassName.attribute_name or instance_name.attribute_name. For example:\n"
   ]
  },
  {
   "cell_type": "code",
   "execution_count": 60,
   "metadata": {},
   "outputs": [
    {
     "name": "stdout",
     "output_type": "stream",
     "text": [
      "This is a class attribute\n",
      "This is a class attribute\n",
      "This is an instance attribute\n"
     ]
    }
   ],
   "source": [
    "\n",
    "class MyClass:\n",
    "    class_attribute = \"This is a class attribute\"\n",
    "    \n",
    "    def __init__(self, instance_attribute):\n",
    "        self.instance_attribute = instance_attribute\n",
    "        \n",
    "my_instance = MyClass(\"This is an instance attribute\")\n",
    "\n",
    "print(MyClass.class_attribute) # output: This is a class attribute\n",
    "print(my_instance.class_attribute) # output: This is a class attribute\n",
    "print(my_instance.instance_attribute) # output: This is an instance attribute\n"
   ]
  },
  {
   "cell_type": "markdown",
   "metadata": {},
   "source": [
    "\n",
    "In this example, we create a class attribute called class_attribute and an instance attribute called instance_attribute. We can access the class attribute using either MyClass.class_attribute or my_instance.class_attribute, and we can access the instance attribute using my_instance.instance_attribute.\n"
   ]
  },
  {
   "attachments": {},
   "cell_type": "markdown",
   "metadata": {},
   "source": [
    "\n",
    "Q12. Where and how are instance attributes created?\n",
    "\n",
    "Ans : Instance attributes are created inside the class's methods or the constructor method __init__() using the self keyword to reference the current instance of the class.\n",
    "\n",
    "Here's an example:\n"
   ]
  },
  {
   "cell_type": "code",
   "execution_count": 61,
   "metadata": {},
   "outputs": [],
   "source": [
    "\n",
    "class MyClass:\n",
    "    def __init__(self, attribute1, attribute2):\n",
    "        self.attribute1 = attribute1\n",
    "        self.attribute2 = attribute2\n",
    "        \n",
    "    def method1(self):\n",
    "        self.attribute3 = \"This is an instance attribute created inside method1\"\n"
   ]
  },
  {
   "cell_type": "markdown",
   "metadata": {},
   "source": [
    "\n",
    "In this example, we define a class called MyClass. The __init__() method is a constructor method that is called when an instance of the class is created. Inside the constructor method, we create two instance attributes called attribute1 and attribute2. These attributes are unique to each instance of the class and can be set when creating a new instance of the class.\n",
    "\n",
    "We can also create instance attributes inside the class's methods using the self keyword. In the method1() method, we create an instance attribute called attribute3. This attribute is specific to the instance on which the method is called and will not be shared with other instances of the class.\n",
    "\n",
    "Instance attributes can be accessed using the dot notation syntax, like this:\n"
   ]
  },
  {
   "cell_type": "code",
   "execution_count": 62,
   "metadata": {},
   "outputs": [
    {
     "name": "stdout",
     "output_type": "stream",
     "text": [
      "value1\n",
      "value4\n",
      "This is an instance attribute created inside method1\n"
     ]
    }
   ],
   "source": [
    "\n",
    "instance1 = MyClass(\"value1\", \"value2\")\n",
    "print(instance1.attribute1) # Output: value1\n",
    "\n",
    "instance2 = MyClass(\"value3\", \"value4\")\n",
    "print(instance2.attribute2) # Output: value4\n",
    "\n",
    "instance1.method1()\n",
    "print(instance1.attribute3) # Output: This is an instance attribute created inside method1\n"
   ]
  },
  {
   "cell_type": "markdown",
   "metadata": {},
   "source": [
    "\n",
    "In this example, we create two instances of the class MyClass with different values for the attribute1 and attribute2 instance attributes. We then call the method1() method on instance1 to create a new instance attribute called attribute3. We can access each instance attribute using the dot notation syntax instance_name.attribute_name.\n"
   ]
  },
  {
   "attachments": {},
   "cell_type": "markdown",
   "metadata": {},
   "source": [
    "\n",
    "Q13. What does the term \"self\" in a Python class mean?\n",
    "\n",
    "Ans : In Python, self refers to the instance of the class that a method is being called on. It is the first argument passed to a method of a class, and it is a convention in Python to use the name self for this parameter.\n",
    "\n",
    "When you create an instance of a class, all the methods of that class have access to the instance via the self parameter. This allows the methods to access and modify the instance attributes and call other methods of the same instance.\n",
    "\n",
    "Here is an example of a class with a method that uses self:\n"
   ]
  },
  {
   "cell_type": "code",
   "execution_count": 63,
   "metadata": {},
   "outputs": [],
   "source": [
    "\n",
    "class MyClass:\n",
    "    def __init__(self, attribute1, attribute2):\n",
    "        self.attribute1 = attribute1\n",
    "        self.attribute2 = attribute2\n",
    "        \n",
    "    def method1(self):\n",
    "        print(\"attribute1 is:\", self.attribute1)\n",
    "        print(\"attribute2 is:\", self.attribute2)\n"
   ]
  },
  {
   "attachments": {},
   "cell_type": "markdown",
   "metadata": {},
   "source": [
    "\n",
    "In this example, we define a class called MyClass with two instance attributes called attribute1 and attribute2. We also define a method called method1 that prints out the values of these attributes.\n",
    "\n",
    "When we create an instance of the class and call method1() on that instance, the instance is passed to the self parameter of the method. This allows the method to access the instance attributes of that specific instance.\n"
   ]
  },
  {
   "cell_type": "code",
   "execution_count": 64,
   "metadata": {},
   "outputs": [
    {
     "name": "stdout",
     "output_type": "stream",
     "text": [
      "attribute1 is: value1\n",
      "attribute2 is: value2\n"
     ]
    }
   ],
   "source": [
    "\n",
    "instance1 = MyClass(\"value1\", \"value2\")\n",
    "instance1.method1()\n"
   ]
  },
  {
   "attachments": {},
   "cell_type": "markdown",
   "metadata": {},
   "source": [
    "In this example, the output of calling method1() on instance1 would be:\n",
    "\n",
    "attribute1 is: value1\n",
    "attribute2 is: value2\n",
    "\n",
    "In summary, self refers to the instance of the class that a method is being called on, and it is used to access and modify instance attributes and call other methods of the same instance.\n"
   ]
  },
  {
   "attachments": {},
   "cell_type": "markdown",
   "metadata": {},
   "source": [
    "\n",
    "Q14. How does a Python class handle operator overloading?\n",
    "\n",
    "Ans : Python classes can overload operators by defining special methods with reserved names, such as __add__ for addition, __sub__ for subtraction, __eq__ for equality, and so on. These methods allow instances of a class to behave like built-in objects when used with the corresponding operators.\n",
    "\n",
    "For example, suppose we have a class called Point that represents a point in a 2D plane. We can define the __add__ method to allow adding two Point objects together:\n"
   ]
  },
  {
   "cell_type": "code",
   "execution_count": 65,
   "metadata": {},
   "outputs": [],
   "source": [
    "\n",
    "class Point:\n",
    "    def __init__(self, x, y):\n",
    "        self.x = x\n",
    "        self.y = y\n",
    "\n",
    "    def __add__(self, other):\n",
    "        return Point(self.x + other.x, self.y + other.y)\n"
   ]
  },
  {
   "attachments": {},
   "cell_type": "markdown",
   "metadata": {},
   "source": [
    "\n",
    "In this example, we define a Point class with an __add__ method that takes another Point object as an argument and returns a new Point object with the sum of the x and y coordinates of both points.\n",
    "\n",
    "Now we can create two Point objects and add them together using the + operator:"
   ]
  },
  {
   "cell_type": "code",
   "execution_count": 66,
   "metadata": {},
   "outputs": [],
   "source": [
    "p1 = Point(1, 2)\n",
    "p2 = Point(3, 4)\n",
    "p3 = p1 + p2"
   ]
  },
  {
   "cell_type": "markdown",
   "metadata": {},
   "source": [
    "\n",
    "In this example, p3 would be a new Point object with the x coordinate 4 and the y coordinate 6.\n",
    "\n",
    "By overloading operators with these special methods, we can make our custom classes work with the same syntax and semantics as built-in types, making our code more concise and easier to read.\n"
   ]
  },
  {
   "cell_type": "markdown",
   "metadata": {},
   "source": [
    "\n",
    "Q15. When do you consider allowing operator overloading of your classes?\n",
    "\n",
    "Ans : Operator overloading should be considered when you want your custom class instances to behave like built-in objects in terms of their ability to interact with operators.\n"
   ]
  },
  {
   "cell_type": "markdown",
   "metadata": {},
   "source": [
    "\n",
    "Q16. What is the most popular form of operator overloading?\n",
    "\n",
    "Ans : The most popular form of operator overloading in Python is probably the arithmetic operators (+, -, *, /, //, %, **) and the comparison operators (<, <=, >, >=, ==, !=).\n"
   ]
  },
  {
   "cell_type": "markdown",
   "metadata": {},
   "source": [
    "\n",
    "Q17. What are the two most important concepts to grasp in order to comprehend Python OOP code?\n",
    "\n",
    "Ans : The two most important concepts to grasp in order to comprehend Python OOP code are classes and objects. Classes define the structure and behavior of objects, while objects are instances of a class with specific values assigned to their attributes. Understanding the relationship between classes and objects is essential to understanding how OOP works in Python. Additionally, inheritance, polymorphism, encapsulation, and abstraction are other important concepts to understand in order to write effective and maintainable Python OOP code.\n"
   ]
  },
  {
   "cell_type": "markdown",
   "metadata": {},
   "source": [
    "\n",
    "Q18. Describe three applications for exception processing.\n",
    "\n",
    "Ans : Exception processing is a powerful tool for handling errors and unexpected situations in Python programs. Here are three common applications for exception processing:\n",
    "\n",
    "1: Error handling: When an error occurs during program execution, an exception is raised, which can be caught and handled using exception processing. This allows you to gracefully handle errors in your program and prevent it from crashing or behaving unpredictably.\n",
    "\n",
    "2 : Input validation: Exception processing can be used to validate user input and ensure that it meets certain criteria. For example, if you are writing a program that accepts user input for a password, you can use exception processing to ensure that the password meets minimum requirements, such as a minimum length or a requirement for special characters.\n",
    "\n",
    "3 : Resource management: Exception processing can be used to ensure that resources, such as files or network connections, are properly managed and released when they are no longer needed. For example, if you are working with a file in your program, you can use exception processing to ensure that the file is closed properly, even if an error occurs during program execution.\n"
   ]
  },
  {
   "cell_type": "markdown",
   "metadata": {},
   "source": [
    "\n",
    "Q19. What happens if you don't do something extra to treat an exception?\n",
    "\n",
    "Ans : If you don't do anything to treat an exception in Python, the default behavior is for the program to terminate and display an error message that includes a traceback of the exception. This means that the program stops executing immediately when an exception is raised and prints an error message that indicates what went wrong and where in the program it occurred.\n",
    "\n",
    "This default behavior can be problematic in some cases, especially if the program is performing critical tasks or running in a production environment. It's generally a good practice to catch and handle exceptions using exception processing in order to prevent the program from crashing or behaving unpredictably. By handling exceptions, you can ensure that your program continues to execute and provides meaningful feedback to the user about what went wrong, allowing them to take appropriate action.\n"
   ]
  },
  {
   "cell_type": "markdown",
   "metadata": {},
   "source": [
    "\n",
    "Q20. What are your options for recovering from an exception in your script?\n",
    "\n",
    "Ans : When an exception is raised in a Python script, you have several options for recovering from it:\n",
    "\n",
    "1 : Catch the exception using a try-except block: You can wrap the code that is likely to raise an exception in a try block and handle any exceptions that are raised in the corresponding except block. This allows you to gracefully recover from the exception and continue executing the program.\n",
    "\n",
    "2 : Reraise the exception: If you cannot handle the exception in the except block, you can re-raise it using the raise statement. This allows the exception to propagate up the call stack to a higher level of the program that may be better equipped to handle it.\n",
    "\n",
    "3 : Ignore the exception: In some cases, you may choose to ignore the exception and allow the program to continue executing as if nothing happened. However, this is generally not recommended as it can lead to unpredictable behavior and may cause the program to enter an invalid state.\n",
    "\n",
    "4 : Log the exception: You can log the details of the exception to a file or a logging service to help diagnose the cause of the error and identify potential solutions.\n",
    "\n",
    "The specific approach you choose will depend on the nature of the exception and the requirements of your program. In general, it's a good practice to handle exceptions explicitly and provide meaningful feedback to the user about what went wrong, rather than allowing the program to crash or behave unpredictably.\n"
   ]
  },
  {
   "attachments": {},
   "cell_type": "markdown",
   "metadata": {},
   "source": [
    "\n",
    "Q21. Describe two methods for triggering exceptions in your script.\n",
    "\n",
    "Ans : One method for triggering exceptions in a Python script is by using the raise statement. We can use the raise statement to raise a built-in exception or a user-defined exception.\n",
    "\n",
    "For example, consider the following code:\n"
   ]
  },
  {
   "cell_type": "code",
   "execution_count": 67,
   "metadata": {},
   "outputs": [
    {
     "name": "stdout",
     "output_type": "stream",
     "text": [
      "Cannot divide by zero\n"
     ]
    }
   ],
   "source": [
    "\n",
    "def divide(a, b):\n",
    "    if b == 0:\n",
    "        raise ZeroDivisionError(\"Cannot divide by zero\")\n",
    "    return a / b\n",
    "\n",
    "try:\n",
    "    result = divide(10, 0)\n",
    "except ZeroDivisionError as e:\n",
    "    print(e)\n"
   ]
  },
  {
   "attachments": {},
   "cell_type": "markdown",
   "metadata": {},
   "source": [
    "\n",
    "In this example, if the second argument of the divide function is zero, we raise a ZeroDivisionError with a custom error message. This will cause the program to terminate with an error message.\n",
    "\n",
    "Another method for triggering exceptions in a Python script is by using the assert statement. We can use the assert statement to check for a condition and raise an AssertionError if the condition is False.\n",
    "\n",
    "For example, consider the following code:\n"
   ]
  },
  {
   "cell_type": "code",
   "execution_count": 68,
   "metadata": {},
   "outputs": [
    {
     "ename": "AssertionError",
     "evalue": "Cannot divide by zero",
     "output_type": "error",
     "traceback": [
      "\u001b[1;31m---------------------------------------------------------------------------\u001b[0m",
      "\u001b[1;31mAssertionError\u001b[0m                            Traceback (most recent call last)",
      "Cell \u001b[1;32mIn[68], line 5\u001b[0m\n\u001b[0;32m      2\u001b[0m     \u001b[39massert\u001b[39;00m b \u001b[39m!=\u001b[39m \u001b[39m0\u001b[39m, \u001b[39m\"\u001b[39m\u001b[39mCannot divide by zero\u001b[39m\u001b[39m\"\u001b[39m\n\u001b[0;32m      3\u001b[0m     \u001b[39mreturn\u001b[39;00m a \u001b[39m/\u001b[39m b\n\u001b[1;32m----> 5\u001b[0m result \u001b[39m=\u001b[39m divide(\u001b[39m10\u001b[39;49m, \u001b[39m0\u001b[39;49m)\n",
      "Cell \u001b[1;32mIn[68], line 2\u001b[0m, in \u001b[0;36mdivide\u001b[1;34m(a, b)\u001b[0m\n\u001b[0;32m      1\u001b[0m \u001b[39mdef\u001b[39;00m \u001b[39mdivide\u001b[39m(a, b):\n\u001b[1;32m----> 2\u001b[0m     \u001b[39massert\u001b[39;00m b \u001b[39m!=\u001b[39m \u001b[39m0\u001b[39m, \u001b[39m\"\u001b[39m\u001b[39mCannot divide by zero\u001b[39m\u001b[39m\"\u001b[39m\n\u001b[0;32m      3\u001b[0m     \u001b[39mreturn\u001b[39;00m a \u001b[39m/\u001b[39m b\n",
      "\u001b[1;31mAssertionError\u001b[0m: Cannot divide by zero"
     ]
    }
   ],
   "source": [
    "\n",
    "def divide(a, b):\n",
    "    assert b != 0, \"Cannot divide by zero\"\n",
    "    return a / b\n",
    "\n",
    "result = divide(10, 0)\n"
   ]
  },
  {
   "cell_type": "markdown",
   "metadata": {},
   "source": [
    "\n",
    "In this example, we use the assert statement to check if the second argument of the divide function is zero. If it is zero, an AssertionError will be raised with a custom error message. This will cause the program to terminate with an error message.\n"
   ]
  },
  {
   "cell_type": "markdown",
   "metadata": {},
   "source": [
    "\n",
    "Q22. Identify two methods for specifying actions to be executed at termination time, regardless of  \n",
    "whether or not an exception exists.\n",
    "\n",
    "Ans : The two methods for specifying actions to be executed at termination time, regardless of whether or not an exception exists in a Python script are:\n",
    "\n",
    "1 : Using the try/finally block: The finally block is guaranteed to execute, whether an exception is raised or not. This block is usually used to perform cleanup activities such as closing files or network connections.\n",
    "\n",
    "2 : Using the atexit module: The atexit module provides a simple interface to register functions to be called when a script is about to exit. These functions are called in the reverse order in which they were registered.\n"
   ]
  },
  {
   "cell_type": "markdown",
   "metadata": {},
   "source": [
    "\n",
    "Q23. What is the purpose of the try statement?\n",
    "\n",
    "Ans : The purpose of the try statement in Python is to enable exception handling. The try statement lets you define a block of code that might raise an exception, and it allows you to define what should happen if an exception is raised. By enclosing the code that might raise an exception in a try block and specifying the appropriate exception handling code in except blocks, you can gracefully handle errors and avoid program crashes.\n"
   ]
  },
  {
   "cell_type": "markdown",
   "metadata": {},
   "source": [
    "\n",
    "Q24. What are the two most popular try statement variations?\n",
    "\n",
    "Ans : The two most popular try statement variations in Python are:\n",
    "\n",
    "1 : try-except: This variation catches the exception and executes alternative code to handle the exception.\n",
    "\n",
    "2 : try-finally: This variation is used to ensure that a block of code is always executed, even if an exception is raised, by defining a block of code to execute in the finally clause.\n"
   ]
  },
  {
   "cell_type": "markdown",
   "metadata": {},
   "source": [
    "\n",
    "Q25. What is the purpose of the raise statement?\n",
    "\n",
    "Ans : The raise statement in Python is used to raise or throw an exception explicitly in a program. When the program raises an exception, it stops the normal execution flow and jumps to the exception handler code that can handle that exception. The raise statement allows programmers to create their own custom exceptions or to re-raise an exception that was caught in a try-except block.\n",
    "\n",
    "Q26. What does the assert statement do, and what other statement is it like?\n",
    "\n",
    "Ans : The assert statement is used for debugging purposes and to check for logical errors in the code. It takes an expression and an optional error message, and if the expression evaluates to False, it raises an AssertionError with the provided error message. The assert statement is similar to an if statement that raises an exception if the condition is not met.\n"
   ]
  },
  {
   "attachments": {},
   "cell_type": "markdown",
   "metadata": {},
   "source": [
    "\n",
    "Q27. What is the purpose of the with/as argument, and what other statement is it like?\n",
    "\n",
    "Ans : The with/as statement in Python is used for context management. It is used to wrap the execution of a block of code with methods defined by a context manager. The main purpose of the with statement is to ensure that a specific code segment is executed with some predefined context that is properly set up and cleaned up.\n",
    "\n",
    "The with statement is similar to a try/finally block in that it guarantees that the cleanup code is executed even if the block of code raises an exception. The with statement simplifies this process by providing a standard way of doing setup and cleanup activities. It makes code cleaner and more readable by reducing the amount of boilerplate code required to manage resources.\n",
    "\n",
    "An example of using the with/as statement to work with files:\n"
   ]
  },
  {
   "cell_type": "code",
   "execution_count": null,
   "metadata": {},
   "outputs": [],
   "source": [
    "with open('file.txt', 'r') as f:\n",
    "    data = f.read()\n",
    "    print(data)"
   ]
  },
  {
   "cell_type": "markdown",
   "metadata": {},
   "source": [
    "\n",
    "In this example, the open() method returns a file object which is used to read data from the file. The with statement ensures that the file is properly closed after the block of code is executed, even if an exception is raised.\n"
   ]
  },
  {
   "attachments": {},
   "cell_type": "markdown",
   "metadata": {},
   "source": [
    "\n",
    "Q28. What are *args, **kwargs?\n",
    "\n",
    "Ans : In Python, *args and **kwargs are special syntaxes used in function definitions that allow functions to accept an arbitrary number of arguments and keyword arguments, respectively.\n",
    "\n",
    "*args is used to pass a variable number of positional arguments to a function. It collects all the positional arguments passed to a function into a tuple.\n",
    "\n",
    "For example, consider the following function definition:\n"
   ]
  },
  {
   "cell_type": "code",
   "execution_count": 73,
   "metadata": {},
   "outputs": [],
   "source": [
    "\n",
    "def my_function(*args):\n",
    "    for arg in args:\n",
    "        print(arg)\n"
   ]
  },
  {
   "cell_type": "markdown",
   "metadata": {},
   "source": [
    "\n",
    "In this function, the *args syntax allows us to pass any number of positional arguments, which are then printed inside the function.\n",
    "\n",
    "**kwargs, on the other hand, allows us to pass a variable number of keyword arguments to a function. It collects all the keyword arguments passed to a function into a dictionary.\n",
    "\n",
    "For example, consider the following function definition:\n"
   ]
  },
  {
   "cell_type": "code",
   "execution_count": 72,
   "metadata": {},
   "outputs": [],
   "source": [
    "\n",
    "def my_function(**kwargs):\n",
    "    for key, value in kwargs.items():\n",
    "        print(key, value)\n"
   ]
  },
  {
   "cell_type": "markdown",
   "metadata": {},
   "source": [
    "\n",
    "In this function, the **kwargs syntax allows us to pass any number of keyword arguments, which are then printed inside the function.\n"
   ]
  },
  {
   "attachments": {},
   "cell_type": "markdown",
   "metadata": {},
   "source": [
    "\n",
    "Q29. How can I pass optional or keyword parameters from one function to another?\n",
    "\n",
    "Ans : To pass optional or keyword parameters from one function to another, we can use *args and **kwargs.\n",
    "\n",
    "*args is used to pass a variable number of non-keyword arguments from one function to another, while **kwargs is used to pass a variable number of keyword arguments.\n",
    "\n",
    "Here's an example:\n"
   ]
  },
  {
   "cell_type": "code",
   "execution_count": 69,
   "metadata": {},
   "outputs": [],
   "source": [
    "\n",
    "def function1(*args, **kwargs):\n",
    "    # do something with args and kwargs\n",
    "    function2(*args, **kwargs)\n",
    "\n",
    "def function2(*args, **kwargs):\n",
    "    # do something with args and kwargs\n",
    "    pass\n",
    "\n",
    "function1(1, 2, 3, name='Alice', age=25)\n"
   ]
  },
  {
   "cell_type": "markdown",
   "metadata": {},
   "source": [
    "\n",
    "In this example, function1 takes in *args and **kwargs, and then calls function2 with those same arguments using the * and ** syntax to unpack them. This allows function2 to receive the same arguments that were passed to function1.\n"
   ]
  },
  {
   "cell_type": "markdown",
   "metadata": {},
   "source": [
    "\n",
    "Q30. What are Lambda Functions?\n",
    "\n",
    "Ans : Lambda functions are small, anonymous functions in Python that can have any number of arguments, but can only have one expression. They are typically used as a shortcut for creating simple, one-time-use functions without having to define a named function. Lambda functions are created using the lambda keyword, followed by the function's arguments and an expression to be evaluated. They are often used in combination with higher-order functions like map(), filter(), and reduce().\n"
   ]
  },
  {
   "attachments": {},
   "cell_type": "markdown",
   "metadata": {},
   "source": [
    "\n",
    "Q31. Explain Inheritance in Python with an example?\n",
    "\n",
    "Ans : Inheritance is a fundamental concept of object-oriented programming (OOP) that allows a class to derive properties and methods from another class. The class that is being inherited from is called the parent or superclass, and the class that is inheriting is called the child or subclass.\n",
    "\n",
    "In Python, inheritance is accomplished by defining a subclass and using the name of the superclass in parentheses when defining it. Here's an example:\n"
   ]
  },
  {
   "cell_type": "code",
   "execution_count": 70,
   "metadata": {},
   "outputs": [],
   "source": [
    "\n",
    "class Animal:\n",
    "    def __init__(self, name, species):\n",
    "        self.name = name\n",
    "        self.species = species\n",
    "    \n",
    "    def make_sound(self):\n",
    "        print(\"Generic animal sound\")\n",
    "        \n",
    "class Dog(Animal):\n",
    "    def __init__(self, name, breed):\n",
    "        super().__init__(name, species=\"Dog\")\n",
    "        self.breed = breed\n",
    "    \n",
    "    def make_sound(self):\n",
    "        print(\"Woof!\")\n"
   ]
  },
  {
   "cell_type": "markdown",
   "metadata": {},
   "source": [
    "\n",
    "In this example, the Animal class is the superclass and the Dog class is the subclass. The Dog class inherits the __init__ method from the Animal class, but it overrides the make_sound method to print \"Woof!\" instead of the generic animal sound. The super() function is used to call the __init__ method of the superclass, which initializes the name and species attributes of the Dog instance.\n",
    "\n",
    "With inheritance, the Dog class automatically has all the attributes and methods of the Animal class, in addition to its own attributes and methods. This allows for code reuse and organization, as well as the ability to create specialized classes with unique behavior.\n"
   ]
  },
  {
   "cell_type": "markdown",
   "metadata": {},
   "source": [
    "\n",
    "Q32. Suppose class C inherits from classes A and B as class C(A,B).Classes A and B both have their own versions of method func(). If we call func() from an object of \n",
    "class C, which version gets invoked?\n",
    "\n",
    "Ans : If class C inherits from classes A and B as class C(A,B), and both classes A and B have their own versions of a method called func(), then the version of func() that gets invoked when called from an object of class C depends on the order in which A and B are listed in the parentheses when defining the class.\n",
    "\n",
    "For example, if class C(A,B) is defined, and A and B both have a method called func(), then the func() method of A will be called if func() is invoked from an instance of class C, and A is listed before B in the parentheses, like this: class C(A, B).\n",
    "\n",
    "If B is listed before A, like this: class C(B, A), then the func() method of B will be called when func() is invoked from an instance of class C.\n"
   ]
  },
  {
   "cell_type": "markdown",
   "metadata": {},
   "source": [
    "\n",
    "Q33. Which methods/functions do we use to determine the type of instance and inheritance?\n",
    "\n",
    "Ans : We can use the type() function to determine the type of an instance or object in Python. To check if an object is an instance of a specific class, we can use the isinstance() function. To determine the inheritance relationship between classes, we can use the issubclass() function.\n"
   ]
  },
  {
   "attachments": {},
   "cell_type": "markdown",
   "metadata": {},
   "source": [
    "\n",
    "Q34.Explain the use of the 'nonlocal' keyword in Python.\n",
    "\n",
    "Ans : The 'nonlocal' keyword is used in Python to declare that a variable in a nested function is not local to it, but rather belongs to the enclosing function's scope. This means that changes made to the variable in the nested function will affect the variable in the enclosing function's scope.\n",
    "\n",
    "For example:\n"
   ]
  },
  {
   "cell_type": "code",
   "execution_count": 71,
   "metadata": {},
   "outputs": [
    {
     "name": "stdout",
     "output_type": "stream",
     "text": [
      "20\n"
     ]
    }
   ],
   "source": [
    "\n",
    "def outer_function():\n",
    "    x = 10\n",
    "    def inner_function():\n",
    "        nonlocal x\n",
    "        x = 20\n",
    "    inner_function()\n",
    "    print(x)\n",
    "\n",
    "outer_function()  # Output: 20\n"
   ]
  },
  {
   "cell_type": "markdown",
   "metadata": {},
   "source": [
    "\n",
    "In the above code, the 'nonlocal' keyword is used to declare that the variable 'x' in the inner_function() is not local to it, but belongs to the scope of the outer_function(). Therefore, when we call inner_function() and modify the value of 'x', it affects the value of 'x' in the outer_function() scope as well. The final print statement shows that 'x' now has a value of 20.\n"
   ]
  },
  {
   "cell_type": "markdown",
   "metadata": {},
   "source": [
    "\n",
    "Q35. What is the global keyword?\n",
    "\n",
    "Ans : In Python, the global keyword is used to define a variable inside a function as a global variable. This means that the variable can be accessed and modified from anywhere within the program, not just within the function where it was originally defined. When the global keyword is used, any assignment to the variable inside the function will affect the global variable, not just the local variable with the same name."
   ]
  }
 ],
 "metadata": {
  "kernelspec": {
   "display_name": "Python 3",
   "language": "python",
   "name": "python3"
  },
  "language_info": {
   "codemirror_mode": {
    "name": "ipython",
    "version": 3
   },
   "file_extension": ".py",
   "mimetype": "text/x-python",
   "name": "python",
   "nbconvert_exporter": "python",
   "pygments_lexer": "ipython3",
   "version": "3.9.9"
  },
  "orig_nbformat": 4
 },
 "nbformat": 4,
 "nbformat_minor": 2
}
